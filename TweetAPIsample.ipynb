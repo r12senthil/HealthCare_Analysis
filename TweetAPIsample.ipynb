{
  "nbformat": 4,
  "nbformat_minor": 0,
  "metadata": {
    "colab": {
      "name": "TweetAPIsample.ipynb",
      "version": "0.3.2",
      "provenance": [],
      "collapsed_sections": [],
      "include_colab_link": true
    },
    "kernelspec": {
      "name": "python3",
      "display_name": "Python 3"
    }
  },
  "cells": [
    {
      "cell_type": "markdown",
      "metadata": {
        "id": "view-in-github",
        "colab_type": "text"
      },
      "source": [
        "<a href=\"https://colab.research.google.com/github/r12senthil/HealthCare_Analysis/blob/master/TweetAPIsample.ipynb\" target=\"_parent\"><img src=\"https://colab.research.google.com/assets/colab-badge.svg\" alt=\"Open In Colab\"/></a>"
      ]
    },
    {
      "cell_type": "code",
      "metadata": {
        "id": "JkgC5Enva7qJ",
        "colab_type": "code",
        "colab": {}
      },
      "source": [
        "#Resources\n",
        "#Want to learn more about using Python to access the Twitter API? Try checking out a course like Byte-Sized-Chunks: Twitter Sentiment Analysis in Python for a deeper dive in to using the Twitter API for data science projects with Python."
      ],
      "execution_count": 0,
      "outputs": []
    },
    {
      "cell_type": "markdown",
      "metadata": {
        "id": "HF1zN1eQbAnJ",
        "colab_type": "text"
      },
      "source": [
        ""
      ]
    },
    {
      "cell_type": "code",
      "metadata": {
        "id": "3XZPHD04YADr",
        "colab_type": "code",
        "colab": {
          "base_uri": "https://localhost:8080/",
          "height": 272
        },
        "outputId": "9c644d05-3c94-4e93-874c-daf2a6e664e2"
      },
      "source": [
        "!pip install twython"
      ],
      "execution_count": 4,
      "outputs": [
        {
          "output_type": "stream",
          "text": [
            "Collecting twython\n",
            "  Downloading https://files.pythonhosted.org/packages/8c/2b/c0883f05b03a8e87787d56395d6c89515fe7e0bf80abd3778b6bb3a6873f/twython-3.7.0.tar.gz\n",
            "Requirement already satisfied: requests>=2.1.0 in /usr/local/lib/python3.6/dist-packages (from twython) (2.21.0)\n",
            "Requirement already satisfied: requests_oauthlib>=0.4.0 in /usr/local/lib/python3.6/dist-packages (from twython) (1.2.0)\n",
            "Requirement already satisfied: urllib3<1.25,>=1.21.1 in /usr/local/lib/python3.6/dist-packages (from requests>=2.1.0->twython) (1.24.3)\n",
            "Requirement already satisfied: idna<2.9,>=2.5 in /usr/local/lib/python3.6/dist-packages (from requests>=2.1.0->twython) (2.8)\n",
            "Requirement already satisfied: chardet<3.1.0,>=3.0.2 in /usr/local/lib/python3.6/dist-packages (from requests>=2.1.0->twython) (3.0.4)\n",
            "Requirement already satisfied: certifi>=2017.4.17 in /usr/local/lib/python3.6/dist-packages (from requests>=2.1.0->twython) (2019.3.9)\n",
            "Requirement already satisfied: oauthlib>=3.0.0 in /usr/local/lib/python3.6/dist-packages (from requests_oauthlib>=0.4.0->twython) (3.0.1)\n",
            "Building wheels for collected packages: twython\n",
            "  Building wheel for twython (setup.py) ... \u001b[?25l\u001b[?25hdone\n",
            "  Stored in directory: /root/.cache/pip/wheels/c2/b0/a3/5c4b4b87b8c9e4d99f1494a0b471f0134a74e5fb33d426d009\n",
            "Successfully built twython\n",
            "Installing collected packages: twython\n",
            "Successfully installed twython-3.7.0\n"
          ],
          "name": "stdout"
        }
      ]
    },
    {
      "cell_type": "code",
      "metadata": {
        "id": "FKPvbXp7NON9",
        "colab_type": "code",
        "colab": {}
      },
      "source": [
        "from twython import Twython\n",
        "import json"
      ],
      "execution_count": 0,
      "outputs": []
    },
    {
      "cell_type": "code",
      "metadata": {
        "id": "CwjyCpdGYqer",
        "colab_type": "code",
        "colab": {}
      },
      "source": [
        "python_tweets = Twython('Zyrg','aP1Dm')"
      ],
      "execution_count": 0,
      "outputs": []
    },
    {
      "cell_type": "code",
      "metadata": {
        "id": "CuMKc8fBZJIw",
        "colab_type": "code",
        "colab": {}
      },
      "source": [
        "query = {'q': 'Data Science',  \n",
        "        'result_type': 'popular',\n",
        "        'count': 10,\n",
        "        'lang': 'en',\n",
        "        }"
      ],
      "execution_count": 0,
      "outputs": []
    },
    {
      "cell_type": "code",
      "metadata": {
        "id": "MReJSLjMZZlB",
        "colab_type": "code",
        "colab": {
          "base_uri": "https://localhost:8080/",
          "height": 359
        },
        "outputId": "647d027c-4e22-470d-d747-1e272fdb3455"
      },
      "source": [
        "import pandas as pd\n",
        "\n",
        "# Search tweets\n",
        "dict_ = {'user': [], 'date': [], 'text': [], 'favorite_count': []}  \n",
        "for status in python_tweets.search(**query)['statuses']:  \n",
        "    dict_['user'].append(status['user']['screen_name'])\n",
        "    dict_['date'].append(status['created_at'])\n",
        "    dict_['text'].append(status['text'])\n",
        "    dict_['favorite_count'].append(status['favorite_count'])\n",
        "\n",
        "# Structure data in a pandas DataFrame for easier manipulation\n",
        "df = pd.DataFrame(dict_)  \n",
        "df.sort_values(by='favorite_count', inplace=True, ascending=False)  \n",
        "df"
      ],
      "execution_count": 13,
      "outputs": [
        {
          "output_type": "execute_result",
          "data": {
            "text/html": [
              "<div>\n",
              "<style scoped>\n",
              "    .dataframe tbody tr th:only-of-type {\n",
              "        vertical-align: middle;\n",
              "    }\n",
              "\n",
              "    .dataframe tbody tr th {\n",
              "        vertical-align: top;\n",
              "    }\n",
              "\n",
              "    .dataframe thead th {\n",
              "        text-align: right;\n",
              "    }\n",
              "</style>\n",
              "<table border=\"1\" class=\"dataframe\">\n",
              "  <thead>\n",
              "    <tr style=\"text-align: right;\">\n",
              "      <th></th>\n",
              "      <th>user</th>\n",
              "      <th>date</th>\n",
              "      <th>text</th>\n",
              "      <th>favorite_count</th>\n",
              "    </tr>\n",
              "  </thead>\n",
              "  <tbody>\n",
              "    <tr>\n",
              "      <th>5</th>\n",
              "      <td>KirkDBorne</td>\n",
              "      <td>Sun May 05 20:19:34 +0000 2019</td>\n",
              "      <td>⚡️10-page (PDF) #DataScience Cheat Sheet cover...</td>\n",
              "      <td>947</td>\n",
              "    </tr>\n",
              "    <tr>\n",
              "      <th>7</th>\n",
              "      <td>chrisalbon</td>\n",
              "      <td>Wed May 08 23:40:10 +0000 2019</td>\n",
              "      <td>When companies require PhDs for data science j...</td>\n",
              "      <td>920</td>\n",
              "    </tr>\n",
              "    <tr>\n",
              "      <th>4</th>\n",
              "      <td>nytimes</td>\n",
              "      <td>Sat May 04 03:30:05 +0000 2019</td>\n",
              "      <td>The science of studying the data stored in tre...</td>\n",
              "      <td>534</td>\n",
              "    </tr>\n",
              "    <tr>\n",
              "      <th>8</th>\n",
              "      <td>HarvardBiz</td>\n",
              "      <td>Wed May 08 15:04:41 +0000 2019</td>\n",
              "      <td>Leadership isn’t an exact science. We need to ...</td>\n",
              "      <td>261</td>\n",
              "    </tr>\n",
              "    <tr>\n",
              "      <th>1</th>\n",
              "      <td>KirkDBorne</td>\n",
              "      <td>Sat May 11 00:05:44 +0000 2019</td>\n",
              "      <td>Comprehensive Repository of #DataScience and #...</td>\n",
              "      <td>164</td>\n",
              "    </tr>\n",
              "    <tr>\n",
              "      <th>6</th>\n",
              "      <td>royalsociety</td>\n",
              "      <td>Thu May 09 06:00:08 +0000 2019</td>\n",
              "      <td>The Royal Society has found that the UK is a w...</td>\n",
              "      <td>111</td>\n",
              "    </tr>\n",
              "    <tr>\n",
              "      <th>9</th>\n",
              "      <td>NvidiaAI</td>\n",
              "      <td>Thu May 09 12:07:01 +0000 2019</td>\n",
              "      <td>Today at #RHSummit, NVIDIA and @RedHat introdu...</td>\n",
              "      <td>94</td>\n",
              "    </tr>\n",
              "    <tr>\n",
              "      <th>2</th>\n",
              "      <td>Azure</td>\n",
              "      <td>Sat May 11 11:00:00 +0000 2019</td>\n",
              "      <td>Learn about the data science and #MachineLearn...</td>\n",
              "      <td>57</td>\n",
              "    </tr>\n",
              "    <tr>\n",
              "      <th>0</th>\n",
              "      <td>DrPhilGoff</td>\n",
              "      <td>Sat May 11 15:42:14 +0000 2019</td>\n",
              "      <td>We’re hiring! If you are interested in data sc...</td>\n",
              "      <td>35</td>\n",
              "    </tr>\n",
              "    <tr>\n",
              "      <th>3</th>\n",
              "      <td>NatGeoMag</td>\n",
              "      <td>Sun May 12 10:00:06 +0000 2019</td>\n",
              "      <td>Science is getting a boost in China. Research ...</td>\n",
              "      <td>24</td>\n",
              "    </tr>\n",
              "  </tbody>\n",
              "</table>\n",
              "</div>"
            ],
            "text/plain": [
              "           user                            date  \\\n",
              "5    KirkDBorne  Sun May 05 20:19:34 +0000 2019   \n",
              "7    chrisalbon  Wed May 08 23:40:10 +0000 2019   \n",
              "4       nytimes  Sat May 04 03:30:05 +0000 2019   \n",
              "8    HarvardBiz  Wed May 08 15:04:41 +0000 2019   \n",
              "1    KirkDBorne  Sat May 11 00:05:44 +0000 2019   \n",
              "6  royalsociety  Thu May 09 06:00:08 +0000 2019   \n",
              "9      NvidiaAI  Thu May 09 12:07:01 +0000 2019   \n",
              "2         Azure  Sat May 11 11:00:00 +0000 2019   \n",
              "0    DrPhilGoff  Sat May 11 15:42:14 +0000 2019   \n",
              "3     NatGeoMag  Sun May 12 10:00:06 +0000 2019   \n",
              "\n",
              "                                                text  favorite_count  \n",
              "5  ⚡️10-page (PDF) #DataScience Cheat Sheet cover...             947  \n",
              "7  When companies require PhDs for data science j...             920  \n",
              "4  The science of studying the data stored in tre...             534  \n",
              "8  Leadership isn’t an exact science. We need to ...             261  \n",
              "1  Comprehensive Repository of #DataScience and #...             164  \n",
              "6  The Royal Society has found that the UK is a w...             111  \n",
              "9  Today at #RHSummit, NVIDIA and @RedHat introdu...              94  \n",
              "2  Learn about the data science and #MachineLearn...              57  \n",
              "0  We’re hiring! If you are interested in data sc...              35  \n",
              "3  Science is getting a boost in China. Research ...              24  "
            ]
          },
          "metadata": {
            "tags": []
          },
          "execution_count": 13
        }
      ]
    },
    {
      "cell_type": "code",
      "metadata": {
        "id": "Yx-YZ6Mba3Sa",
        "colab_type": "code",
        "colab": {}
      },
      "source": [
        ""
      ],
      "execution_count": 0,
      "outputs": []
    }
  ]
}